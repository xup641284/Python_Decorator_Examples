{
 "cells": [
  {
   "cell_type": "code",
   "execution_count": 1,
   "id": "86611eae",
   "metadata": {},
   "outputs": [
    {
     "name": "stdout",
     "output_type": "stream",
     "text": [
      "Something before the function is called.\n",
      "My function is called.\n",
      "Something after the function is called.\n"
     ]
    }
   ],
   "source": [
    "def my_decorator(func):\n",
    "    def wrapper():\n",
    "        print(\"Something before the function is called.\")\n",
    "        func()\n",
    "        print(\"Something after the function is called.\")\n",
    "    return wrapper\n",
    "\n",
    "@my_decorator\n",
    "def my_function():\n",
    "    print(\"My function is called.\")\n",
    "\n",
    "my_function()\n"
   ]
  },
  {
   "cell_type": "code",
   "execution_count": 2,
   "id": "ce5001cd",
   "metadata": {},
   "outputs": [
    {
     "name": "stdout",
     "output_type": "stream",
     "text": [
      "HELLO, ALICE!\n"
     ]
    }
   ],
   "source": [
    "def uppercase_decorator(func):\n",
    "    def wrapper(*args, **kwargs):\n",
    "        result = func(*args, **kwargs)\n",
    "        return result.upper()\n",
    "    return wrapper\n",
    "\n",
    "def exclamation_decorator(func):\n",
    "    def wrapper(*args, **kwargs):\n",
    "        result = func(*args, **kwargs)\n",
    "        return result + \"!\"\n",
    "    return wrapper\n",
    "\n",
    "@exclamation_decorator\n",
    "@uppercase_decorator\n",
    "def greet(name):\n",
    "    return f\"Hello, {name}\"\n",
    "\n",
    "print(greet(\"Alice\"))\n"
   ]
  },
  {
   "cell_type": "code",
   "execution_count": 3,
   "id": "94bd3b62",
   "metadata": {},
   "outputs": [
    {
     "name": "stdout",
     "output_type": "stream",
     "text": [
      "Title: The Shawshank Redemption\n",
      "Rating: 9.3\n",
      "Description: Over the course of several years, two convicts form a friendship, seeking consolation and, eventually, redemption through basic compassion.\n",
      "Crawling additional data for IMDb URL: https://www.imdb.com/title/tt0111161/\n"
     ]
    }
   ],
   "source": [
    "import requests\n",
    "from bs4 import BeautifulSoup\n",
    "\n",
    "# Decorator for crawling IMDb movie details\n",
    "def crawl_imdb_movie_details(func):\n",
    "    def wrapper(movie_url):\n",
    "        # Check if the URL is from IMDb\n",
    "        if 'imdb.com/title/' not in movie_url:\n",
    "            print(\"Invalid IMDb URL\")\n",
    "            return\n",
    "\n",
    "        # Send an HTTP GET request to the IMDb movie page\n",
    "        headers = {'User-Agent': 'Mozilla/5.0'}\n",
    "        response = requests.get(movie_url, headers=headers)\n",
    "\n",
    "        try:\n",
    "            soup = BeautifulSoup(response.text, 'html.parser')\n",
    "\n",
    "            # Extract movie details (you can customize this part)\n",
    "            title = soup.find('div', {'class': 'sc-afe43def-3 EpHJp'}).text.replace('Original title:', '').strip()\n",
    "            rating = soup.find('span', {'class': 'sc-bde20123-1 iZlgcd'}).text.strip()\n",
    "            description = soup.find('span', {'class': 'sc-466bb6c-0 kJJttH'}).text.strip()\n",
    "            \n",
    "            print(f\"Title: {title}\")\n",
    "            print(f\"Rating: {rating}\")\n",
    "            print(f\"Description: {description}\")\n",
    "\n",
    "            # Call the original function\n",
    "            return func(movie_url)\n",
    "\n",
    "        except:\n",
    "            \n",
    "            print(f\"Failed to fetch data from IMDb URL: {movie_url}\")\n",
    "\n",
    "    return wrapper\n",
    "\n",
    "# Example usage of the decorator\n",
    "@crawl_imdb_movie_details\n",
    "def get_imdb_movie_data(movie_url):\n",
    "    # Here, you can define additional processing for the IMDb data\n",
    "    print(f\"Crawling additional data for IMDb URL: {movie_url}\")\n",
    "\n",
    "# Example IMDb movie URL\n",
    "movie_url = 'https://www.imdb.com/title/tt0111161/'  # The Shawshank Redemption\n",
    "\n",
    "# Use the decorated function to crawl IMDb data\n",
    "get_imdb_movie_data(movie_url)\n"
   ]
  },
  {
   "cell_type": "code",
   "execution_count": null,
   "id": "d2781a50",
   "metadata": {},
   "outputs": [],
   "source": []
  }
 ],
 "metadata": {
  "kernelspec": {
   "display_name": "Python 3 (ipykernel)",
   "language": "python",
   "name": "python3"
  },
  "language_info": {
   "codemirror_mode": {
    "name": "ipython",
    "version": 3
   },
   "file_extension": ".py",
   "mimetype": "text/x-python",
   "name": "python",
   "nbconvert_exporter": "python",
   "pygments_lexer": "ipython3",
   "version": "3.11.4"
  }
 },
 "nbformat": 4,
 "nbformat_minor": 5
}
